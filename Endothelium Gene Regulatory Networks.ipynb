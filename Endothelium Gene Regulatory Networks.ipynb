{
 "cells": [
  {
   "cell_type": "code",
   "execution_count": 1,
   "id": "45120e08",
   "metadata": {},
   "outputs": [],
   "source": [
    "from bs4 import BeautifulSoup\n",
    "import requests\n",
    "import html\n",
    "import time\n",
    "import argparse"
   ]
  },
  {
   "cell_type": "code",
   "execution_count": 2,
   "id": "f775abd0",
   "metadata": {},
   "outputs": [],
   "source": [
    "import mygene\n",
    "mg = mygene.MyGeneInfo()"
   ]
  },
  {
   "cell_type": "code",
   "execution_count": 3,
   "id": "4ef5491f",
   "metadata": {},
   "outputs": [
    {
     "name": "stdout",
     "output_type": "stream",
     "text": [
      "querying 1-1...done.\n",
      "Finished.\n"
     ]
    },
    {
     "data": {
      "text/plain": [
       "'PBX1'"
      ]
     },
     "execution_count": 3,
     "metadata": {},
     "output_type": "execute_result"
    }
   ],
   "source": [
    "mg.querymany(\"5087\", scopes='entrezgene', fields='symbol', species='human')[0]['symbol']"
   ]
  },
  {
   "cell_type": "code",
   "execution_count": 4,
   "id": "4d0665ca",
   "metadata": {},
   "outputs": [],
   "source": [
    "import os\n",
    "import glob\n",
    "import pickle\n",
    "import pandas as pd\n",
    "import numpy as np\n",
    "\n",
    "from dask.diagnostics import ProgressBar\n",
    "\n",
    "from arboreto.utils import load_tf_names\n",
    "from arboreto.algo import grnboost2\n",
    "\n",
    "from ctxcore.rnkdb import FeatherRankingDatabase as RankingDatabase\n",
    "from pyscenic.utils import modules_from_adjacencies, load_motifs\n",
    "from pyscenic.prune import prune2df, df2regulons\n",
    "from pyscenic.aucell import aucell\n",
    "\n",
    "import seaborn as sns"
   ]
  },
  {
   "cell_type": "code",
   "execution_count": 5,
   "id": "b4a5f094",
   "metadata": {},
   "outputs": [],
   "source": [
    "expression_df=pd.read_csv('Optimal_dataset.csv')\n"
   ]
  },
  {
   "cell_type": "code",
   "execution_count": 6,
   "id": "d36be807",
   "metadata": {},
   "outputs": [],
   "source": [
    "GeneID=expression_df['Feature']"
   ]
  },
  {
   "cell_type": "code",
   "execution_count": 7,
   "id": "c55ed5d3",
   "metadata": {},
   "outputs": [
    {
     "name": "stdout",
     "output_type": "stream",
     "text": [
      "querying 1-1000...done.\n",
      "querying 1001-2000...done.\n",
      "querying 2001-3000...done.\n",
      "querying 3001-4000...done.\n",
      "querying 4001-4998...done.\n",
      "Finished.\n"
     ]
    }
   ],
   "source": [
    "GS=mg.querymany(GeneID, scopes='entrezgene', fields='symbol', species='human')\n",
    "GeneSymbol=[GS[i]['symbol'] for i in range(4998)]\n"
   ]
  },
  {
   "cell_type": "code",
   "execution_count": 8,
   "id": "96d56b7b",
   "metadata": {},
   "outputs": [
    {
     "data": {
      "text/plain": [
       "4998"
      ]
     },
     "execution_count": 8,
     "metadata": {},
     "output_type": "execute_result"
    }
   ],
   "source": [
    "len(set(GeneSymbol))"
   ]
  },
  {
   "cell_type": "code",
   "execution_count": 9,
   "id": "16d5b89b",
   "metadata": {},
   "outputs": [],
   "source": [
    "expression_df['Gene ID']=GeneSymbol"
   ]
  },
  {
   "cell_type": "code",
   "execution_count": 10,
   "id": "326610ee",
   "metadata": {},
   "outputs": [
    {
     "data": {
      "text/html": [
       "<div>\n",
       "<style scoped>\n",
       "    .dataframe tbody tr th:only-of-type {\n",
       "        vertical-align: middle;\n",
       "    }\n",
       "\n",
       "    .dataframe tbody tr th {\n",
       "        vertical-align: top;\n",
       "    }\n",
       "\n",
       "    .dataframe thead th {\n",
       "        text-align: right;\n",
       "    }\n",
       "</style>\n",
       "<table border=\"1\" class=\"dataframe\">\n",
       "  <thead>\n",
       "    <tr style=\"text-align: right;\">\n",
       "      <th></th>\n",
       "      <th>E-GEOD-30169_GSM752709.cel</th>\n",
       "      <th>E-GEOD-30169_GSM752710.cel</th>\n",
       "      <th>E-GEOD-30169_GSM752711.cel</th>\n",
       "      <th>E-GEOD-30169_GSM752712.cel</th>\n",
       "      <th>E-GEOD-30169_GSM752713.cel</th>\n",
       "      <th>E-GEOD-30169_GSM752714.cel</th>\n",
       "      <th>E-GEOD-30169_GSM752715.cel</th>\n",
       "      <th>E-GEOD-30169_GSM752716.cel</th>\n",
       "      <th>E-GEOD-30169_GSM752717.cel</th>\n",
       "      <th>E-GEOD-30169_GSM752718.cel</th>\n",
       "      <th>...</th>\n",
       "      <th>E-GEOD-2450_GSM46387.CEL</th>\n",
       "      <th>E-GEOD-2450_GSM46388.CEL</th>\n",
       "      <th>E-GEOD-2450_GSM46389.CEL</th>\n",
       "      <th>E-GEOD-2450_GSM46390.CEL</th>\n",
       "      <th>E-GEOD-2450_GSM46391.CEL</th>\n",
       "      <th>E-GEOD-2450_GSM46392.CEL</th>\n",
       "      <th>E-GEOD-2450_GSM46393.CEL</th>\n",
       "      <th>E-GEOD-2450_GSM46394.CEL</th>\n",
       "      <th>E-GEOD-2450_GSM46395.CEL</th>\n",
       "      <th>Gene ID</th>\n",
       "    </tr>\n",
       "  </thead>\n",
       "  <tbody>\n",
       "    <tr>\n",
       "      <th>0</th>\n",
       "      <td>6.082276</td>\n",
       "      <td>6.296477</td>\n",
       "      <td>5.678143</td>\n",
       "      <td>5.903716</td>\n",
       "      <td>6.561618</td>\n",
       "      <td>6.563634</td>\n",
       "      <td>6.315923</td>\n",
       "      <td>6.285618</td>\n",
       "      <td>6.213070</td>\n",
       "      <td>6.462815</td>\n",
       "      <td>...</td>\n",
       "      <td>6.319818</td>\n",
       "      <td>6.377999</td>\n",
       "      <td>6.527582</td>\n",
       "      <td>6.489835</td>\n",
       "      <td>6.624150</td>\n",
       "      <td>8.837815</td>\n",
       "      <td>8.586964</td>\n",
       "      <td>6.352242</td>\n",
       "      <td>6.281925</td>\n",
       "      <td>ADA</td>\n",
       "    </tr>\n",
       "    <tr>\n",
       "      <th>1</th>\n",
       "      <td>8.910453</td>\n",
       "      <td>9.094440</td>\n",
       "      <td>9.018398</td>\n",
       "      <td>8.981716</td>\n",
       "      <td>9.903595</td>\n",
       "      <td>9.752144</td>\n",
       "      <td>10.060706</td>\n",
       "      <td>10.016482</td>\n",
       "      <td>10.449370</td>\n",
       "      <td>10.395254</td>\n",
       "      <td>...</td>\n",
       "      <td>8.441180</td>\n",
       "      <td>8.843971</td>\n",
       "      <td>8.998472</td>\n",
       "      <td>8.892125</td>\n",
       "      <td>8.860669</td>\n",
       "      <td>9.992499</td>\n",
       "      <td>10.019584</td>\n",
       "      <td>8.024033</td>\n",
       "      <td>7.984392</td>\n",
       "      <td>CDH2</td>\n",
       "    </tr>\n",
       "    <tr>\n",
       "      <th>2</th>\n",
       "      <td>3.903745</td>\n",
       "      <td>3.573659</td>\n",
       "      <td>3.750108</td>\n",
       "      <td>4.090731</td>\n",
       "      <td>3.960562</td>\n",
       "      <td>3.867853</td>\n",
       "      <td>3.701989</td>\n",
       "      <td>3.649789</td>\n",
       "      <td>3.906663</td>\n",
       "      <td>3.963748</td>\n",
       "      <td>...</td>\n",
       "      <td>6.292823</td>\n",
       "      <td>6.226290</td>\n",
       "      <td>6.620311</td>\n",
       "      <td>6.222595</td>\n",
       "      <td>6.497028</td>\n",
       "      <td>7.098504</td>\n",
       "      <td>7.330978</td>\n",
       "      <td>6.436398</td>\n",
       "      <td>6.473776</td>\n",
       "      <td>AKT3</td>\n",
       "    </tr>\n",
       "    <tr>\n",
       "      <th>3</th>\n",
       "      <td>5.963907</td>\n",
       "      <td>6.097107</td>\n",
       "      <td>5.790247</td>\n",
       "      <td>5.761399</td>\n",
       "      <td>6.016096</td>\n",
       "      <td>6.124152</td>\n",
       "      <td>6.104648</td>\n",
       "      <td>5.986309</td>\n",
       "      <td>5.860771</td>\n",
       "      <td>6.024226</td>\n",
       "      <td>...</td>\n",
       "      <td>7.315629</td>\n",
       "      <td>7.086792</td>\n",
       "      <td>7.135733</td>\n",
       "      <td>7.045656</td>\n",
       "      <td>6.585559</td>\n",
       "      <td>7.457399</td>\n",
       "      <td>8.094391</td>\n",
       "      <td>6.995187</td>\n",
       "      <td>7.402195</td>\n",
       "      <td>ACOT8</td>\n",
       "    </tr>\n",
       "    <tr>\n",
       "      <th>4</th>\n",
       "      <td>7.752008</td>\n",
       "      <td>7.465366</td>\n",
       "      <td>7.941747</td>\n",
       "      <td>7.606796</td>\n",
       "      <td>7.469340</td>\n",
       "      <td>7.268851</td>\n",
       "      <td>7.641408</td>\n",
       "      <td>7.385734</td>\n",
       "      <td>7.565066</td>\n",
       "      <td>7.325005</td>\n",
       "      <td>...</td>\n",
       "      <td>6.146278</td>\n",
       "      <td>5.913813</td>\n",
       "      <td>5.738923</td>\n",
       "      <td>6.470929</td>\n",
       "      <td>6.267256</td>\n",
       "      <td>6.340759</td>\n",
       "      <td>7.332293</td>\n",
       "      <td>5.348349</td>\n",
       "      <td>5.980073</td>\n",
       "      <td>ABI1</td>\n",
       "    </tr>\n",
       "    <tr>\n",
       "      <th>...</th>\n",
       "      <td>...</td>\n",
       "      <td>...</td>\n",
       "      <td>...</td>\n",
       "      <td>...</td>\n",
       "      <td>...</td>\n",
       "      <td>...</td>\n",
       "      <td>...</td>\n",
       "      <td>...</td>\n",
       "      <td>...</td>\n",
       "      <td>...</td>\n",
       "      <td>...</td>\n",
       "      <td>...</td>\n",
       "      <td>...</td>\n",
       "      <td>...</td>\n",
       "      <td>...</td>\n",
       "      <td>...</td>\n",
       "      <td>...</td>\n",
       "      <td>...</td>\n",
       "      <td>...</td>\n",
       "      <td>...</td>\n",
       "      <td>...</td>\n",
       "    </tr>\n",
       "    <tr>\n",
       "      <th>4993</th>\n",
       "      <td>9.607231</td>\n",
       "      <td>9.543961</td>\n",
       "      <td>9.677517</td>\n",
       "      <td>9.559407</td>\n",
       "      <td>9.398856</td>\n",
       "      <td>9.486502</td>\n",
       "      <td>9.366075</td>\n",
       "      <td>9.296258</td>\n",
       "      <td>9.427576</td>\n",
       "      <td>9.341100</td>\n",
       "      <td>...</td>\n",
       "      <td>7.960800</td>\n",
       "      <td>8.175102</td>\n",
       "      <td>8.625871</td>\n",
       "      <td>7.995476</td>\n",
       "      <td>8.629033</td>\n",
       "      <td>10.104216</td>\n",
       "      <td>10.150308</td>\n",
       "      <td>7.483893</td>\n",
       "      <td>7.456364</td>\n",
       "      <td>PPP4R1</td>\n",
       "    </tr>\n",
       "    <tr>\n",
       "      <th>4994</th>\n",
       "      <td>4.541300</td>\n",
       "      <td>4.129266</td>\n",
       "      <td>4.073877</td>\n",
       "      <td>4.563461</td>\n",
       "      <td>3.990184</td>\n",
       "      <td>3.708544</td>\n",
       "      <td>3.967550</td>\n",
       "      <td>3.958163</td>\n",
       "      <td>4.084023</td>\n",
       "      <td>3.666532</td>\n",
       "      <td>...</td>\n",
       "      <td>8.008836</td>\n",
       "      <td>7.725863</td>\n",
       "      <td>7.686385</td>\n",
       "      <td>7.747283</td>\n",
       "      <td>7.266135</td>\n",
       "      <td>6.230547</td>\n",
       "      <td>6.482698</td>\n",
       "      <td>8.156654</td>\n",
       "      <td>8.331578</td>\n",
       "      <td>SLC12A6</td>\n",
       "    </tr>\n",
       "    <tr>\n",
       "      <th>4995</th>\n",
       "      <td>5.560324</td>\n",
       "      <td>5.308262</td>\n",
       "      <td>5.546625</td>\n",
       "      <td>5.734750</td>\n",
       "      <td>5.004711</td>\n",
       "      <td>4.987957</td>\n",
       "      <td>5.177761</td>\n",
       "      <td>5.127617</td>\n",
       "      <td>5.182611</td>\n",
       "      <td>5.012821</td>\n",
       "      <td>...</td>\n",
       "      <td>7.023650</td>\n",
       "      <td>6.627935</td>\n",
       "      <td>7.130835</td>\n",
       "      <td>6.901606</td>\n",
       "      <td>6.811979</td>\n",
       "      <td>5.885550</td>\n",
       "      <td>6.038529</td>\n",
       "      <td>7.301287</td>\n",
       "      <td>7.535880</td>\n",
       "      <td>PTBP3</td>\n",
       "    </tr>\n",
       "    <tr>\n",
       "      <th>4996</th>\n",
       "      <td>5.421064</td>\n",
       "      <td>5.107210</td>\n",
       "      <td>5.445133</td>\n",
       "      <td>5.229923</td>\n",
       "      <td>5.538198</td>\n",
       "      <td>5.591131</td>\n",
       "      <td>5.475488</td>\n",
       "      <td>5.330362</td>\n",
       "      <td>5.484444</td>\n",
       "      <td>5.411318</td>\n",
       "      <td>...</td>\n",
       "      <td>6.745371</td>\n",
       "      <td>6.947689</td>\n",
       "      <td>7.349610</td>\n",
       "      <td>6.929981</td>\n",
       "      <td>6.662989</td>\n",
       "      <td>7.709261</td>\n",
       "      <td>7.385845</td>\n",
       "      <td>7.208683</td>\n",
       "      <td>7.368032</td>\n",
       "      <td>DGCR2</td>\n",
       "    </tr>\n",
       "    <tr>\n",
       "      <th>4997</th>\n",
       "      <td>6.115885</td>\n",
       "      <td>5.385675</td>\n",
       "      <td>5.948111</td>\n",
       "      <td>5.777848</td>\n",
       "      <td>5.569191</td>\n",
       "      <td>5.237845</td>\n",
       "      <td>5.014228</td>\n",
       "      <td>4.927849</td>\n",
       "      <td>5.636542</td>\n",
       "      <td>5.274262</td>\n",
       "      <td>...</td>\n",
       "      <td>5.025163</td>\n",
       "      <td>5.654419</td>\n",
       "      <td>5.415644</td>\n",
       "      <td>5.636404</td>\n",
       "      <td>5.490920</td>\n",
       "      <td>5.322395</td>\n",
       "      <td>5.316692</td>\n",
       "      <td>5.260873</td>\n",
       "      <td>5.322395</td>\n",
       "      <td>CASP8AP2</td>\n",
       "    </tr>\n",
       "  </tbody>\n",
       "</table>\n",
       "<p>4998 rows × 2637 columns</p>\n",
       "</div>"
      ],
      "text/plain": [
       "      E-GEOD-30169_GSM752709.cel  E-GEOD-30169_GSM752710.cel  \\\n",
       "0                       6.082276                    6.296477   \n",
       "1                       8.910453                    9.094440   \n",
       "2                       3.903745                    3.573659   \n",
       "3                       5.963907                    6.097107   \n",
       "4                       7.752008                    7.465366   \n",
       "...                          ...                         ...   \n",
       "4993                    9.607231                    9.543961   \n",
       "4994                    4.541300                    4.129266   \n",
       "4995                    5.560324                    5.308262   \n",
       "4996                    5.421064                    5.107210   \n",
       "4997                    6.115885                    5.385675   \n",
       "\n",
       "      E-GEOD-30169_GSM752711.cel  E-GEOD-30169_GSM752712.cel  \\\n",
       "0                       5.678143                    5.903716   \n",
       "1                       9.018398                    8.981716   \n",
       "2                       3.750108                    4.090731   \n",
       "3                       5.790247                    5.761399   \n",
       "4                       7.941747                    7.606796   \n",
       "...                          ...                         ...   \n",
       "4993                    9.677517                    9.559407   \n",
       "4994                    4.073877                    4.563461   \n",
       "4995                    5.546625                    5.734750   \n",
       "4996                    5.445133                    5.229923   \n",
       "4997                    5.948111                    5.777848   \n",
       "\n",
       "      E-GEOD-30169_GSM752713.cel  E-GEOD-30169_GSM752714.cel  \\\n",
       "0                       6.561618                    6.563634   \n",
       "1                       9.903595                    9.752144   \n",
       "2                       3.960562                    3.867853   \n",
       "3                       6.016096                    6.124152   \n",
       "4                       7.469340                    7.268851   \n",
       "...                          ...                         ...   \n",
       "4993                    9.398856                    9.486502   \n",
       "4994                    3.990184                    3.708544   \n",
       "4995                    5.004711                    4.987957   \n",
       "4996                    5.538198                    5.591131   \n",
       "4997                    5.569191                    5.237845   \n",
       "\n",
       "      E-GEOD-30169_GSM752715.cel  E-GEOD-30169_GSM752716.cel  \\\n",
       "0                       6.315923                    6.285618   \n",
       "1                      10.060706                   10.016482   \n",
       "2                       3.701989                    3.649789   \n",
       "3                       6.104648                    5.986309   \n",
       "4                       7.641408                    7.385734   \n",
       "...                          ...                         ...   \n",
       "4993                    9.366075                    9.296258   \n",
       "4994                    3.967550                    3.958163   \n",
       "4995                    5.177761                    5.127617   \n",
       "4996                    5.475488                    5.330362   \n",
       "4997                    5.014228                    4.927849   \n",
       "\n",
       "      E-GEOD-30169_GSM752717.cel  E-GEOD-30169_GSM752718.cel  ...  \\\n",
       "0                       6.213070                    6.462815  ...   \n",
       "1                      10.449370                   10.395254  ...   \n",
       "2                       3.906663                    3.963748  ...   \n",
       "3                       5.860771                    6.024226  ...   \n",
       "4                       7.565066                    7.325005  ...   \n",
       "...                          ...                         ...  ...   \n",
       "4993                    9.427576                    9.341100  ...   \n",
       "4994                    4.084023                    3.666532  ...   \n",
       "4995                    5.182611                    5.012821  ...   \n",
       "4996                    5.484444                    5.411318  ...   \n",
       "4997                    5.636542                    5.274262  ...   \n",
       "\n",
       "      E-GEOD-2450_GSM46387.CEL  E-GEOD-2450_GSM46388.CEL  \\\n",
       "0                     6.319818                  6.377999   \n",
       "1                     8.441180                  8.843971   \n",
       "2                     6.292823                  6.226290   \n",
       "3                     7.315629                  7.086792   \n",
       "4                     6.146278                  5.913813   \n",
       "...                        ...                       ...   \n",
       "4993                  7.960800                  8.175102   \n",
       "4994                  8.008836                  7.725863   \n",
       "4995                  7.023650                  6.627935   \n",
       "4996                  6.745371                  6.947689   \n",
       "4997                  5.025163                  5.654419   \n",
       "\n",
       "      E-GEOD-2450_GSM46389.CEL  E-GEOD-2450_GSM46390.CEL  \\\n",
       "0                     6.527582                  6.489835   \n",
       "1                     8.998472                  8.892125   \n",
       "2                     6.620311                  6.222595   \n",
       "3                     7.135733                  7.045656   \n",
       "4                     5.738923                  6.470929   \n",
       "...                        ...                       ...   \n",
       "4993                  8.625871                  7.995476   \n",
       "4994                  7.686385                  7.747283   \n",
       "4995                  7.130835                  6.901606   \n",
       "4996                  7.349610                  6.929981   \n",
       "4997                  5.415644                  5.636404   \n",
       "\n",
       "      E-GEOD-2450_GSM46391.CEL  E-GEOD-2450_GSM46392.CEL  \\\n",
       "0                     6.624150                  8.837815   \n",
       "1                     8.860669                  9.992499   \n",
       "2                     6.497028                  7.098504   \n",
       "3                     6.585559                  7.457399   \n",
       "4                     6.267256                  6.340759   \n",
       "...                        ...                       ...   \n",
       "4993                  8.629033                 10.104216   \n",
       "4994                  7.266135                  6.230547   \n",
       "4995                  6.811979                  5.885550   \n",
       "4996                  6.662989                  7.709261   \n",
       "4997                  5.490920                  5.322395   \n",
       "\n",
       "      E-GEOD-2450_GSM46393.CEL  E-GEOD-2450_GSM46394.CEL  \\\n",
       "0                     8.586964                  6.352242   \n",
       "1                    10.019584                  8.024033   \n",
       "2                     7.330978                  6.436398   \n",
       "3                     8.094391                  6.995187   \n",
       "4                     7.332293                  5.348349   \n",
       "...                        ...                       ...   \n",
       "4993                 10.150308                  7.483893   \n",
       "4994                  6.482698                  8.156654   \n",
       "4995                  6.038529                  7.301287   \n",
       "4996                  7.385845                  7.208683   \n",
       "4997                  5.316692                  5.260873   \n",
       "\n",
       "      E-GEOD-2450_GSM46395.CEL   Gene ID  \n",
       "0                     6.281925       ADA  \n",
       "1                     7.984392      CDH2  \n",
       "2                     6.473776      AKT3  \n",
       "3                     7.402195     ACOT8  \n",
       "4                     5.980073      ABI1  \n",
       "...                        ...       ...  \n",
       "4993                  7.456364    PPP4R1  \n",
       "4994                  8.331578   SLC12A6  \n",
       "4995                  7.535880     PTBP3  \n",
       "4996                  7.368032     DGCR2  \n",
       "4997                  5.322395  CASP8AP2  \n",
       "\n",
       "[4998 rows x 2637 columns]"
      ]
     },
     "execution_count": 10,
     "metadata": {},
     "output_type": "execute_result"
    }
   ],
   "source": [
    "expression_df=expression_df.drop(['Feature'], axis=1)\n",
    "expression_df"
   ]
  },
  {
   "cell_type": "code",
   "execution_count": 11,
   "id": "0262b69c",
   "metadata": {},
   "outputs": [
    {
     "name": "stdout",
     "output_type": "stream",
     "text": [
      "(4998, 2636)\n"
     ]
    }
   ],
   "source": [
    "expression = expression_df.set_index(\"Gene ID\")\n",
    "expression.rename_axis(None, inplace=True)\n",
    "print(expression.shape)\n"
   ]
  },
  {
   "cell_type": "code",
   "execution_count": 12,
   "id": "ec2b4970",
   "metadata": {},
   "outputs": [
    {
     "data": {
      "text/html": [
       "<div>\n",
       "<style scoped>\n",
       "    .dataframe tbody tr th:only-of-type {\n",
       "        vertical-align: middle;\n",
       "    }\n",
       "\n",
       "    .dataframe tbody tr th {\n",
       "        vertical-align: top;\n",
       "    }\n",
       "\n",
       "    .dataframe thead th {\n",
       "        text-align: right;\n",
       "    }\n",
       "</style>\n",
       "<table border=\"1\" class=\"dataframe\">\n",
       "  <thead>\n",
       "    <tr style=\"text-align: right;\">\n",
       "      <th></th>\n",
       "      <th>E-GEOD-30169_GSM752709.cel</th>\n",
       "      <th>E-GEOD-30169_GSM752710.cel</th>\n",
       "      <th>E-GEOD-30169_GSM752711.cel</th>\n",
       "      <th>E-GEOD-30169_GSM752712.cel</th>\n",
       "      <th>E-GEOD-30169_GSM752713.cel</th>\n",
       "      <th>E-GEOD-30169_GSM752714.cel</th>\n",
       "      <th>E-GEOD-30169_GSM752715.cel</th>\n",
       "      <th>E-GEOD-30169_GSM752716.cel</th>\n",
       "      <th>E-GEOD-30169_GSM752717.cel</th>\n",
       "      <th>E-GEOD-30169_GSM752718.cel</th>\n",
       "      <th>...</th>\n",
       "      <th>E-GEOD-2450_GSM46386.CEL</th>\n",
       "      <th>E-GEOD-2450_GSM46387.CEL</th>\n",
       "      <th>E-GEOD-2450_GSM46388.CEL</th>\n",
       "      <th>E-GEOD-2450_GSM46389.CEL</th>\n",
       "      <th>E-GEOD-2450_GSM46390.CEL</th>\n",
       "      <th>E-GEOD-2450_GSM46391.CEL</th>\n",
       "      <th>E-GEOD-2450_GSM46392.CEL</th>\n",
       "      <th>E-GEOD-2450_GSM46393.CEL</th>\n",
       "      <th>E-GEOD-2450_GSM46394.CEL</th>\n",
       "      <th>E-GEOD-2450_GSM46395.CEL</th>\n",
       "    </tr>\n",
       "  </thead>\n",
       "  <tbody>\n",
       "    <tr>\n",
       "      <th>ADA</th>\n",
       "      <td>6.082276</td>\n",
       "      <td>6.296477</td>\n",
       "      <td>5.678143</td>\n",
       "      <td>5.903716</td>\n",
       "      <td>6.561618</td>\n",
       "      <td>6.563634</td>\n",
       "      <td>6.315923</td>\n",
       "      <td>6.285618</td>\n",
       "      <td>6.213070</td>\n",
       "      <td>6.462815</td>\n",
       "      <td>...</td>\n",
       "      <td>6.277586</td>\n",
       "      <td>6.319818</td>\n",
       "      <td>6.377999</td>\n",
       "      <td>6.527582</td>\n",
       "      <td>6.489835</td>\n",
       "      <td>6.624150</td>\n",
       "      <td>8.837815</td>\n",
       "      <td>8.586964</td>\n",
       "      <td>6.352242</td>\n",
       "      <td>6.281925</td>\n",
       "    </tr>\n",
       "    <tr>\n",
       "      <th>CDH2</th>\n",
       "      <td>8.910453</td>\n",
       "      <td>9.094440</td>\n",
       "      <td>9.018398</td>\n",
       "      <td>8.981716</td>\n",
       "      <td>9.903595</td>\n",
       "      <td>9.752144</td>\n",
       "      <td>10.060706</td>\n",
       "      <td>10.016482</td>\n",
       "      <td>10.449370</td>\n",
       "      <td>10.395254</td>\n",
       "      <td>...</td>\n",
       "      <td>8.676218</td>\n",
       "      <td>8.441180</td>\n",
       "      <td>8.843971</td>\n",
       "      <td>8.998472</td>\n",
       "      <td>8.892125</td>\n",
       "      <td>8.860669</td>\n",
       "      <td>9.992499</td>\n",
       "      <td>10.019584</td>\n",
       "      <td>8.024033</td>\n",
       "      <td>7.984392</td>\n",
       "    </tr>\n",
       "    <tr>\n",
       "      <th>AKT3</th>\n",
       "      <td>3.903745</td>\n",
       "      <td>3.573659</td>\n",
       "      <td>3.750108</td>\n",
       "      <td>4.090731</td>\n",
       "      <td>3.960562</td>\n",
       "      <td>3.867853</td>\n",
       "      <td>3.701989</td>\n",
       "      <td>3.649789</td>\n",
       "      <td>3.906663</td>\n",
       "      <td>3.963748</td>\n",
       "      <td>...</td>\n",
       "      <td>6.441616</td>\n",
       "      <td>6.292823</td>\n",
       "      <td>6.226290</td>\n",
       "      <td>6.620311</td>\n",
       "      <td>6.222595</td>\n",
       "      <td>6.497028</td>\n",
       "      <td>7.098504</td>\n",
       "      <td>7.330978</td>\n",
       "      <td>6.436398</td>\n",
       "      <td>6.473776</td>\n",
       "    </tr>\n",
       "    <tr>\n",
       "      <th>ACOT8</th>\n",
       "      <td>5.963907</td>\n",
       "      <td>6.097107</td>\n",
       "      <td>5.790247</td>\n",
       "      <td>5.761399</td>\n",
       "      <td>6.016096</td>\n",
       "      <td>6.124152</td>\n",
       "      <td>6.104648</td>\n",
       "      <td>5.986309</td>\n",
       "      <td>5.860771</td>\n",
       "      <td>6.024226</td>\n",
       "      <td>...</td>\n",
       "      <td>7.281914</td>\n",
       "      <td>7.315629</td>\n",
       "      <td>7.086792</td>\n",
       "      <td>7.135733</td>\n",
       "      <td>7.045656</td>\n",
       "      <td>6.585559</td>\n",
       "      <td>7.457399</td>\n",
       "      <td>8.094391</td>\n",
       "      <td>6.995187</td>\n",
       "      <td>7.402195</td>\n",
       "    </tr>\n",
       "    <tr>\n",
       "      <th>ABI1</th>\n",
       "      <td>7.752008</td>\n",
       "      <td>7.465366</td>\n",
       "      <td>7.941747</td>\n",
       "      <td>7.606796</td>\n",
       "      <td>7.469340</td>\n",
       "      <td>7.268851</td>\n",
       "      <td>7.641408</td>\n",
       "      <td>7.385734</td>\n",
       "      <td>7.565066</td>\n",
       "      <td>7.325005</td>\n",
       "      <td>...</td>\n",
       "      <td>6.486721</td>\n",
       "      <td>6.146278</td>\n",
       "      <td>5.913813</td>\n",
       "      <td>5.738923</td>\n",
       "      <td>6.470929</td>\n",
       "      <td>6.267256</td>\n",
       "      <td>6.340759</td>\n",
       "      <td>7.332293</td>\n",
       "      <td>5.348349</td>\n",
       "      <td>5.980073</td>\n",
       "    </tr>\n",
       "  </tbody>\n",
       "</table>\n",
       "<p>5 rows × 2636 columns</p>\n",
       "</div>"
      ],
      "text/plain": [
       "       E-GEOD-30169_GSM752709.cel  E-GEOD-30169_GSM752710.cel  \\\n",
       "ADA                      6.082276                    6.296477   \n",
       "CDH2                     8.910453                    9.094440   \n",
       "AKT3                     3.903745                    3.573659   \n",
       "ACOT8                    5.963907                    6.097107   \n",
       "ABI1                     7.752008                    7.465366   \n",
       "\n",
       "       E-GEOD-30169_GSM752711.cel  E-GEOD-30169_GSM752712.cel  \\\n",
       "ADA                      5.678143                    5.903716   \n",
       "CDH2                     9.018398                    8.981716   \n",
       "AKT3                     3.750108                    4.090731   \n",
       "ACOT8                    5.790247                    5.761399   \n",
       "ABI1                     7.941747                    7.606796   \n",
       "\n",
       "       E-GEOD-30169_GSM752713.cel  E-GEOD-30169_GSM752714.cel  \\\n",
       "ADA                      6.561618                    6.563634   \n",
       "CDH2                     9.903595                    9.752144   \n",
       "AKT3                     3.960562                    3.867853   \n",
       "ACOT8                    6.016096                    6.124152   \n",
       "ABI1                     7.469340                    7.268851   \n",
       "\n",
       "       E-GEOD-30169_GSM752715.cel  E-GEOD-30169_GSM752716.cel  \\\n",
       "ADA                      6.315923                    6.285618   \n",
       "CDH2                    10.060706                   10.016482   \n",
       "AKT3                     3.701989                    3.649789   \n",
       "ACOT8                    6.104648                    5.986309   \n",
       "ABI1                     7.641408                    7.385734   \n",
       "\n",
       "       E-GEOD-30169_GSM752717.cel  E-GEOD-30169_GSM752718.cel  ...  \\\n",
       "ADA                      6.213070                    6.462815  ...   \n",
       "CDH2                    10.449370                   10.395254  ...   \n",
       "AKT3                     3.906663                    3.963748  ...   \n",
       "ACOT8                    5.860771                    6.024226  ...   \n",
       "ABI1                     7.565066                    7.325005  ...   \n",
       "\n",
       "       E-GEOD-2450_GSM46386.CEL  E-GEOD-2450_GSM46387.CEL  \\\n",
       "ADA                    6.277586                  6.319818   \n",
       "CDH2                   8.676218                  8.441180   \n",
       "AKT3                   6.441616                  6.292823   \n",
       "ACOT8                  7.281914                  7.315629   \n",
       "ABI1                   6.486721                  6.146278   \n",
       "\n",
       "       E-GEOD-2450_GSM46388.CEL  E-GEOD-2450_GSM46389.CEL  \\\n",
       "ADA                    6.377999                  6.527582   \n",
       "CDH2                   8.843971                  8.998472   \n",
       "AKT3                   6.226290                  6.620311   \n",
       "ACOT8                  7.086792                  7.135733   \n",
       "ABI1                   5.913813                  5.738923   \n",
       "\n",
       "       E-GEOD-2450_GSM46390.CEL  E-GEOD-2450_GSM46391.CEL  \\\n",
       "ADA                    6.489835                  6.624150   \n",
       "CDH2                   8.892125                  8.860669   \n",
       "AKT3                   6.222595                  6.497028   \n",
       "ACOT8                  7.045656                  6.585559   \n",
       "ABI1                   6.470929                  6.267256   \n",
       "\n",
       "       E-GEOD-2450_GSM46392.CEL  E-GEOD-2450_GSM46393.CEL  \\\n",
       "ADA                    8.837815                  8.586964   \n",
       "CDH2                   9.992499                 10.019584   \n",
       "AKT3                   7.098504                  7.330978   \n",
       "ACOT8                  7.457399                  8.094391   \n",
       "ABI1                   6.340759                  7.332293   \n",
       "\n",
       "       E-GEOD-2450_GSM46394.CEL  E-GEOD-2450_GSM46395.CEL  \n",
       "ADA                    6.352242                  6.281925  \n",
       "CDH2                   8.024033                  7.984392  \n",
       "AKT3                   6.436398                  6.473776  \n",
       "ACOT8                  6.995187                  7.402195  \n",
       "ABI1                   5.348349                  5.980073  \n",
       "\n",
       "[5 rows x 2636 columns]"
      ]
     },
     "execution_count": 12,
     "metadata": {},
     "output_type": "execute_result"
    }
   ],
   "source": [
    "expression.head()"
   ]
  },
  {
   "cell_type": "code",
   "execution_count": 53,
   "id": "0026691e",
   "metadata": {},
   "outputs": [],
   "source": [
    "DATA_FOLDER=\"/Users/farhadzare/Desktop/Thesis for master/Untitled Folder/tmp\"\n",
    "RESOURCES_FOLDER=\"/Users/farhadzare/Desktop/Thesis for master/Untitled Folder/resources\"\n",
    "DATABASE_FOLDER = \"/Users/farhadzare/Desktop/Thesis for master/Untitled Folder/databases/\"\n",
    "homoData='/Users/farhadzare/Desktop/Thesis for master/Untitled Folder/databases/humans'\n",
    "SCHEDULER=\"123.122.8.24:8786\"\n",
    "DATABASES_GLOB = os.path.join(homoData, \"hg19-*.feather\")\n",
    "\n",
    "MOTIFS_HGNC_FNAME = os.path.join(RESOURCES_FOLDER, \"motifs-v9-nr.hgnc-m0.001-o0.0.tbl\")\n",
    "MOTIF_ANNOTATIONS_FNAME = os.path.join(RESOURCES_FOLDER, \"motifs-v9-nr.hgnc-m0.001-o0.0.tbl\")\n",
    "OUT_TFS_HGNC_FNAME = os.path.join(RESOURCES_FOLDER, 'hs_hgnc_tfs.txt')\n",
    "MM_TFS_FNAME = os.path.join(RESOURCES_FOLDER , \"mm_mgi_tfs.txt\")\n",
    "SC_EXP_FNAME = os.path.join(RESOURCES_FOLDER, \"GSE60361_C1-3005-Expression.txt\")\n",
    "REGULONS_FNAME = os.path.join(DATA_FOLDER, \"regulons.p\")\n",
    "MOTIFS_FNAME = os.path.join(DATA_FOLDER, \"motifs.csv\")"
   ]
  },
  {
   "cell_type": "markdown",
   "id": "2065c6ce",
   "metadata": {},
   "source": [
    "def quantile_normalization(df):\n",
    "    \n",
    "    \"Quantile normalization consists on sorting, averaging and re-ordering.\"\n",
    "    \"For more information: https://cmdlinetips.com/2020/06/computing-quantile-normalization-in-python/\"\n",
    "  \n",
    "    # step 1/3: sorting sample values\n",
    "    df_sorted = pd.DataFrame(np.sort(df.values, axis=0), index=df.index, columns=df.columns)\n",
    "    # step 2/3: averaging rank values across samples\n",
    "    df_mean = df_sorted.mean(axis=1)\n",
    "    df_mean.index = np.arange(1, len(df_mean) + 1)\n",
    "    # step 3/3: re-ordering samples\n",
    "    df.rank(method=\"min\").astype(int)\n",
    "    df_qn = df.rank(method=\"min\").stack().astype(int).map(df_mean).unstack()\n",
    "\n",
    "    return df_qn"
   ]
  },
  {
   "cell_type": "markdown",
   "id": "49c4726e",
   "metadata": {},
   "source": [
    "expression_qn = quantile_normalization(expression)"
   ]
  },
  {
   "cell_type": "code",
   "execution_count": 15,
   "id": "b5a83c6f",
   "metadata": {},
   "outputs": [
    {
     "data": {
      "text/html": [
       "<div>\n",
       "<style scoped>\n",
       "    .dataframe tbody tr th:only-of-type {\n",
       "        vertical-align: middle;\n",
       "    }\n",
       "\n",
       "    .dataframe tbody tr th {\n",
       "        vertical-align: top;\n",
       "    }\n",
       "\n",
       "    .dataframe thead th {\n",
       "        text-align: right;\n",
       "    }\n",
       "</style>\n",
       "<table border=\"1\" class=\"dataframe\">\n",
       "  <thead>\n",
       "    <tr style=\"text-align: right;\">\n",
       "      <th></th>\n",
       "      <th>ADA</th>\n",
       "      <th>CDH2</th>\n",
       "      <th>AKT3</th>\n",
       "      <th>ACOT8</th>\n",
       "      <th>ABI1</th>\n",
       "      <th>GNPDA1</th>\n",
       "      <th>TANK</th>\n",
       "      <th>HDAC6</th>\n",
       "      <th>PDCD6IP</th>\n",
       "      <th>SH2B3</th>\n",
       "      <th>...</th>\n",
       "      <th>CLUAP1</th>\n",
       "      <th>TBC1D9B</th>\n",
       "      <th>GGA2</th>\n",
       "      <th>WAPL</th>\n",
       "      <th>SETX</th>\n",
       "      <th>EMC1</th>\n",
       "      <th>ERP44</th>\n",
       "      <th>BLTP3B</th>\n",
       "      <th>SWAP70</th>\n",
       "      <th>RRP1B</th>\n",
       "    </tr>\n",
       "  </thead>\n",
       "  <tbody>\n",
       "    <tr>\n",
       "      <th>E-GEOD-30169_GSM752709.cel</th>\n",
       "      <td>6.082276</td>\n",
       "      <td>8.910453</td>\n",
       "      <td>3.903745</td>\n",
       "      <td>5.963907</td>\n",
       "      <td>7.752008</td>\n",
       "      <td>7.375102</td>\n",
       "      <td>5.187760</td>\n",
       "      <td>5.620045</td>\n",
       "      <td>10.513556</td>\n",
       "      <td>9.541779</td>\n",
       "      <td>...</td>\n",
       "      <td>6.573587</td>\n",
       "      <td>7.366281</td>\n",
       "      <td>4.520462</td>\n",
       "      <td>7.649978</td>\n",
       "      <td>6.515985</td>\n",
       "      <td>6.636114</td>\n",
       "      <td>4.399774</td>\n",
       "      <td>4.787275</td>\n",
       "      <td>4.081858</td>\n",
       "      <td>9.582021</td>\n",
       "    </tr>\n",
       "    <tr>\n",
       "      <th>E-GEOD-30169_GSM752710.cel</th>\n",
       "      <td>6.296477</td>\n",
       "      <td>9.094440</td>\n",
       "      <td>3.573659</td>\n",
       "      <td>6.097107</td>\n",
       "      <td>7.465366</td>\n",
       "      <td>7.314584</td>\n",
       "      <td>4.776528</td>\n",
       "      <td>5.593111</td>\n",
       "      <td>10.304974</td>\n",
       "      <td>9.013600</td>\n",
       "      <td>...</td>\n",
       "      <td>6.666182</td>\n",
       "      <td>7.354129</td>\n",
       "      <td>4.205761</td>\n",
       "      <td>7.236840</td>\n",
       "      <td>6.086462</td>\n",
       "      <td>6.572052</td>\n",
       "      <td>4.398890</td>\n",
       "      <td>4.647383</td>\n",
       "      <td>4.041984</td>\n",
       "      <td>9.293093</td>\n",
       "    </tr>\n",
       "    <tr>\n",
       "      <th>E-GEOD-30169_GSM752711.cel</th>\n",
       "      <td>5.678143</td>\n",
       "      <td>9.018398</td>\n",
       "      <td>3.750108</td>\n",
       "      <td>5.790247</td>\n",
       "      <td>7.941747</td>\n",
       "      <td>7.420180</td>\n",
       "      <td>5.657152</td>\n",
       "      <td>5.238865</td>\n",
       "      <td>10.533208</td>\n",
       "      <td>9.677985</td>\n",
       "      <td>...</td>\n",
       "      <td>6.402999</td>\n",
       "      <td>7.588944</td>\n",
       "      <td>4.457085</td>\n",
       "      <td>7.652206</td>\n",
       "      <td>6.453483</td>\n",
       "      <td>6.828489</td>\n",
       "      <td>4.192564</td>\n",
       "      <td>5.212552</td>\n",
       "      <td>4.759505</td>\n",
       "      <td>9.213769</td>\n",
       "    </tr>\n",
       "    <tr>\n",
       "      <th>E-GEOD-30169_GSM752712.cel</th>\n",
       "      <td>5.903716</td>\n",
       "      <td>8.981716</td>\n",
       "      <td>4.090731</td>\n",
       "      <td>5.761399</td>\n",
       "      <td>7.606796</td>\n",
       "      <td>7.501158</td>\n",
       "      <td>5.115412</td>\n",
       "      <td>5.331495</td>\n",
       "      <td>10.522132</td>\n",
       "      <td>9.546220</td>\n",
       "      <td>...</td>\n",
       "      <td>6.357986</td>\n",
       "      <td>7.319048</td>\n",
       "      <td>4.479705</td>\n",
       "      <td>7.614384</td>\n",
       "      <td>6.545434</td>\n",
       "      <td>6.605899</td>\n",
       "      <td>4.566154</td>\n",
       "      <td>4.879280</td>\n",
       "      <td>4.730473</td>\n",
       "      <td>9.196321</td>\n",
       "    </tr>\n",
       "    <tr>\n",
       "      <th>E-GEOD-30169_GSM752713.cel</th>\n",
       "      <td>6.561618</td>\n",
       "      <td>9.903595</td>\n",
       "      <td>3.960562</td>\n",
       "      <td>6.016096</td>\n",
       "      <td>7.469340</td>\n",
       "      <td>7.443952</td>\n",
       "      <td>5.041231</td>\n",
       "      <td>5.256271</td>\n",
       "      <td>10.415659</td>\n",
       "      <td>9.294982</td>\n",
       "      <td>...</td>\n",
       "      <td>6.717917</td>\n",
       "      <td>7.687901</td>\n",
       "      <td>4.428243</td>\n",
       "      <td>7.357628</td>\n",
       "      <td>6.314089</td>\n",
       "      <td>6.659226</td>\n",
       "      <td>4.269930</td>\n",
       "      <td>4.963231</td>\n",
       "      <td>4.918917</td>\n",
       "      <td>9.350938</td>\n",
       "    </tr>\n",
       "    <tr>\n",
       "      <th>...</th>\n",
       "      <td>...</td>\n",
       "      <td>...</td>\n",
       "      <td>...</td>\n",
       "      <td>...</td>\n",
       "      <td>...</td>\n",
       "      <td>...</td>\n",
       "      <td>...</td>\n",
       "      <td>...</td>\n",
       "      <td>...</td>\n",
       "      <td>...</td>\n",
       "      <td>...</td>\n",
       "      <td>...</td>\n",
       "      <td>...</td>\n",
       "      <td>...</td>\n",
       "      <td>...</td>\n",
       "      <td>...</td>\n",
       "      <td>...</td>\n",
       "      <td>...</td>\n",
       "      <td>...</td>\n",
       "      <td>...</td>\n",
       "      <td>...</td>\n",
       "    </tr>\n",
       "    <tr>\n",
       "      <th>E-GEOD-5883_GSM114574.CEL</th>\n",
       "      <td>7.662976</td>\n",
       "      <td>5.833074</td>\n",
       "      <td>9.042264</td>\n",
       "      <td>6.946393</td>\n",
       "      <td>1.689265</td>\n",
       "      <td>8.390888</td>\n",
       "      <td>9.082136</td>\n",
       "      <td>7.328778</td>\n",
       "      <td>10.546268</td>\n",
       "      <td>9.286294</td>\n",
       "      <td>...</td>\n",
       "      <td>6.888946</td>\n",
       "      <td>7.120625</td>\n",
       "      <td>6.518616</td>\n",
       "      <td>7.523826</td>\n",
       "      <td>7.047006</td>\n",
       "      <td>6.049718</td>\n",
       "      <td>6.250524</td>\n",
       "      <td>2.042850</td>\n",
       "      <td>10.112011</td>\n",
       "      <td>6.065502</td>\n",
       "    </tr>\n",
       "    <tr>\n",
       "      <th>E-GEOD-5883_GSM114573.CEL</th>\n",
       "      <td>7.896101</td>\n",
       "      <td>6.469972</td>\n",
       "      <td>9.010852</td>\n",
       "      <td>6.986000</td>\n",
       "      <td>0.645307</td>\n",
       "      <td>8.139138</td>\n",
       "      <td>8.740065</td>\n",
       "      <td>7.497187</td>\n",
       "      <td>10.375422</td>\n",
       "      <td>9.290145</td>\n",
       "      <td>...</td>\n",
       "      <td>6.401865</td>\n",
       "      <td>7.319014</td>\n",
       "      <td>6.725192</td>\n",
       "      <td>7.361516</td>\n",
       "      <td>7.479432</td>\n",
       "      <td>6.419788</td>\n",
       "      <td>6.374575</td>\n",
       "      <td>3.995439</td>\n",
       "      <td>10.104440</td>\n",
       "      <td>5.762237</td>\n",
       "    </tr>\n",
       "    <tr>\n",
       "      <th>E-GEOD-5883_GSM114557.CEL</th>\n",
       "      <td>8.352056</td>\n",
       "      <td>7.425024</td>\n",
       "      <td>8.901005</td>\n",
       "      <td>6.501543</td>\n",
       "      <td>0.503665</td>\n",
       "      <td>8.074704</td>\n",
       "      <td>9.089723</td>\n",
       "      <td>7.028354</td>\n",
       "      <td>10.315053</td>\n",
       "      <td>9.476599</td>\n",
       "      <td>...</td>\n",
       "      <td>6.747413</td>\n",
       "      <td>6.831294</td>\n",
       "      <td>6.143261</td>\n",
       "      <td>7.495076</td>\n",
       "      <td>7.219034</td>\n",
       "      <td>6.460464</td>\n",
       "      <td>6.275990</td>\n",
       "      <td>3.838939</td>\n",
       "      <td>10.233981</td>\n",
       "      <td>6.247350</td>\n",
       "    </tr>\n",
       "    <tr>\n",
       "      <th>E-GEOD-5883_GSM114568.CEL</th>\n",
       "      <td>7.465667</td>\n",
       "      <td>7.783863</td>\n",
       "      <td>8.860528</td>\n",
       "      <td>6.421347</td>\n",
       "      <td>0.703109</td>\n",
       "      <td>8.421323</td>\n",
       "      <td>8.853661</td>\n",
       "      <td>7.026237</td>\n",
       "      <td>10.278883</td>\n",
       "      <td>9.703201</td>\n",
       "      <td>...</td>\n",
       "      <td>6.564240</td>\n",
       "      <td>7.420934</td>\n",
       "      <td>6.884046</td>\n",
       "      <td>7.182481</td>\n",
       "      <td>7.532366</td>\n",
       "      <td>6.746553</td>\n",
       "      <td>6.301111</td>\n",
       "      <td>3.314519</td>\n",
       "      <td>10.223778</td>\n",
       "      <td>5.525602</td>\n",
       "    </tr>\n",
       "    <tr>\n",
       "      <th>E-GEOD-5883_GSM114575.CEL</th>\n",
       "      <td>7.940949</td>\n",
       "      <td>6.891940</td>\n",
       "      <td>8.979822</td>\n",
       "      <td>6.812500</td>\n",
       "      <td>2.378836</td>\n",
       "      <td>8.593938</td>\n",
       "      <td>8.942430</td>\n",
       "      <td>7.477661</td>\n",
       "      <td>10.431262</td>\n",
       "      <td>9.311183</td>\n",
       "      <td>...</td>\n",
       "      <td>6.865722</td>\n",
       "      <td>7.338546</td>\n",
       "      <td>6.705355</td>\n",
       "      <td>7.200967</td>\n",
       "      <td>6.746580</td>\n",
       "      <td>6.723691</td>\n",
       "      <td>5.825380</td>\n",
       "      <td>2.736795</td>\n",
       "      <td>9.836000</td>\n",
       "      <td>5.484511</td>\n",
       "    </tr>\n",
       "  </tbody>\n",
       "</table>\n",
       "<p>650 rows × 1000 columns</p>\n",
       "</div>"
      ],
      "text/plain": [
       "                                 ADA      CDH2      AKT3     ACOT8      ABI1  \\\n",
       "E-GEOD-30169_GSM752709.cel  6.082276  8.910453  3.903745  5.963907  7.752008   \n",
       "E-GEOD-30169_GSM752710.cel  6.296477  9.094440  3.573659  6.097107  7.465366   \n",
       "E-GEOD-30169_GSM752711.cel  5.678143  9.018398  3.750108  5.790247  7.941747   \n",
       "E-GEOD-30169_GSM752712.cel  5.903716  8.981716  4.090731  5.761399  7.606796   \n",
       "E-GEOD-30169_GSM752713.cel  6.561618  9.903595  3.960562  6.016096  7.469340   \n",
       "...                              ...       ...       ...       ...       ...   \n",
       "E-GEOD-5883_GSM114574.CEL   7.662976  5.833074  9.042264  6.946393  1.689265   \n",
       "E-GEOD-5883_GSM114573.CEL   7.896101  6.469972  9.010852  6.986000  0.645307   \n",
       "E-GEOD-5883_GSM114557.CEL   8.352056  7.425024  8.901005  6.501543  0.503665   \n",
       "E-GEOD-5883_GSM114568.CEL   7.465667  7.783863  8.860528  6.421347  0.703109   \n",
       "E-GEOD-5883_GSM114575.CEL   7.940949  6.891940  8.979822  6.812500  2.378836   \n",
       "\n",
       "                              GNPDA1      TANK     HDAC6    PDCD6IP     SH2B3  \\\n",
       "E-GEOD-30169_GSM752709.cel  7.375102  5.187760  5.620045  10.513556  9.541779   \n",
       "E-GEOD-30169_GSM752710.cel  7.314584  4.776528  5.593111  10.304974  9.013600   \n",
       "E-GEOD-30169_GSM752711.cel  7.420180  5.657152  5.238865  10.533208  9.677985   \n",
       "E-GEOD-30169_GSM752712.cel  7.501158  5.115412  5.331495  10.522132  9.546220   \n",
       "E-GEOD-30169_GSM752713.cel  7.443952  5.041231  5.256271  10.415659  9.294982   \n",
       "...                              ...       ...       ...        ...       ...   \n",
       "E-GEOD-5883_GSM114574.CEL   8.390888  9.082136  7.328778  10.546268  9.286294   \n",
       "E-GEOD-5883_GSM114573.CEL   8.139138  8.740065  7.497187  10.375422  9.290145   \n",
       "E-GEOD-5883_GSM114557.CEL   8.074704  9.089723  7.028354  10.315053  9.476599   \n",
       "E-GEOD-5883_GSM114568.CEL   8.421323  8.853661  7.026237  10.278883  9.703201   \n",
       "E-GEOD-5883_GSM114575.CEL   8.593938  8.942430  7.477661  10.431262  9.311183   \n",
       "\n",
       "                            ...    CLUAP1   TBC1D9B      GGA2      WAPL  \\\n",
       "E-GEOD-30169_GSM752709.cel  ...  6.573587  7.366281  4.520462  7.649978   \n",
       "E-GEOD-30169_GSM752710.cel  ...  6.666182  7.354129  4.205761  7.236840   \n",
       "E-GEOD-30169_GSM752711.cel  ...  6.402999  7.588944  4.457085  7.652206   \n",
       "E-GEOD-30169_GSM752712.cel  ...  6.357986  7.319048  4.479705  7.614384   \n",
       "E-GEOD-30169_GSM752713.cel  ...  6.717917  7.687901  4.428243  7.357628   \n",
       "...                         ...       ...       ...       ...       ...   \n",
       "E-GEOD-5883_GSM114574.CEL   ...  6.888946  7.120625  6.518616  7.523826   \n",
       "E-GEOD-5883_GSM114573.CEL   ...  6.401865  7.319014  6.725192  7.361516   \n",
       "E-GEOD-5883_GSM114557.CEL   ...  6.747413  6.831294  6.143261  7.495076   \n",
       "E-GEOD-5883_GSM114568.CEL   ...  6.564240  7.420934  6.884046  7.182481   \n",
       "E-GEOD-5883_GSM114575.CEL   ...  6.865722  7.338546  6.705355  7.200967   \n",
       "\n",
       "                                SETX      EMC1     ERP44    BLTP3B     SWAP70  \\\n",
       "E-GEOD-30169_GSM752709.cel  6.515985  6.636114  4.399774  4.787275   4.081858   \n",
       "E-GEOD-30169_GSM752710.cel  6.086462  6.572052  4.398890  4.647383   4.041984   \n",
       "E-GEOD-30169_GSM752711.cel  6.453483  6.828489  4.192564  5.212552   4.759505   \n",
       "E-GEOD-30169_GSM752712.cel  6.545434  6.605899  4.566154  4.879280   4.730473   \n",
       "E-GEOD-30169_GSM752713.cel  6.314089  6.659226  4.269930  4.963231   4.918917   \n",
       "...                              ...       ...       ...       ...        ...   \n",
       "E-GEOD-5883_GSM114574.CEL   7.047006  6.049718  6.250524  2.042850  10.112011   \n",
       "E-GEOD-5883_GSM114573.CEL   7.479432  6.419788  6.374575  3.995439  10.104440   \n",
       "E-GEOD-5883_GSM114557.CEL   7.219034  6.460464  6.275990  3.838939  10.233981   \n",
       "E-GEOD-5883_GSM114568.CEL   7.532366  6.746553  6.301111  3.314519  10.223778   \n",
       "E-GEOD-5883_GSM114575.CEL   6.746580  6.723691  5.825380  2.736795   9.836000   \n",
       "\n",
       "                               RRP1B  \n",
       "E-GEOD-30169_GSM752709.cel  9.582021  \n",
       "E-GEOD-30169_GSM752710.cel  9.293093  \n",
       "E-GEOD-30169_GSM752711.cel  9.213769  \n",
       "E-GEOD-30169_GSM752712.cel  9.196321  \n",
       "E-GEOD-30169_GSM752713.cel  9.350938  \n",
       "...                              ...  \n",
       "E-GEOD-5883_GSM114574.CEL   6.065502  \n",
       "E-GEOD-5883_GSM114573.CEL   5.762237  \n",
       "E-GEOD-5883_GSM114557.CEL   6.247350  \n",
       "E-GEOD-5883_GSM114568.CEL   5.525602  \n",
       "E-GEOD-5883_GSM114575.CEL   5.484511  \n",
       "\n",
       "[650 rows x 1000 columns]"
      ]
     },
     "execution_count": 15,
     "metadata": {},
     "output_type": "execute_result"
    }
   ],
   "source": [
    "ex_matrix =expression.iloc[0:1000,0:650].T\n",
    "ex_matrix"
   ]
  },
  {
   "cell_type": "code",
   "execution_count": 54,
   "id": "68795660",
   "metadata": {},
   "outputs": [],
   "source": [
    "os.chdir(\"/Users/farhadzare/Desktop/Thesis for master/Untitled Folder\")"
   ]
  },
  {
   "cell_type": "code",
   "execution_count": 55,
   "id": "85d2e163",
   "metadata": {},
   "outputs": [],
   "source": [
    "ex_matrix.to_csv('OptimalwID.csv')"
   ]
  },
  {
   "cell_type": "code",
   "execution_count": 56,
   "id": "6ac623f6",
   "metadata": {},
   "outputs": [
    {
     "name": "stderr",
     "output_type": "stream",
     "text": [
      "/var/folders/xw/ggml5mhd4n7315516lvx2p6c0000gn/T/ipykernel_32746/794328062.py:1: DtypeWarning: Columns (4) have mixed types. Specify dtype option on import or set low_memory=False.\n",
      "  df_motifs_hgnc = pd.read_csv(MOTIFS_HGNC_FNAME, sep='\\t')\n"
     ]
    },
    {
     "data": {
      "text/plain": [
       "1839"
      ]
     },
     "execution_count": 56,
     "metadata": {},
     "output_type": "execute_result"
    }
   ],
   "source": [
    "df_motifs_hgnc = pd.read_csv(MOTIFS_HGNC_FNAME, sep='\\t')\n",
    "hs_tfs = df_motifs_hgnc.gene_name.unique()\n",
    "with open(OUT_TFS_HGNC_FNAME, 'wt') as f:\n",
    "    f.write('\\n'.join(hs_tfs) + '\\n')\n",
    "len(hs_tfs)"
   ]
  },
  {
   "cell_type": "code",
   "execution_count": 57,
   "id": "9de60bcd",
   "metadata": {},
   "outputs": [],
   "source": [
    "\n",
    "OUT_TFS_HGI_FNAME = os.path.join(RESOURCES_FOLDER, 'hs_hgnc_tfs.txt')"
   ]
  },
  {
   "cell_type": "code",
   "execution_count": 58,
   "id": "48afef30",
   "metadata": {},
   "outputs": [
    {
     "data": {
      "text/plain": [
       "'/Users/farhadzare/Desktop/Thesis for master/Untitled Folder/resources/hs_hgnc_tfs.txt'"
      ]
     },
     "execution_count": 58,
     "metadata": {},
     "output_type": "execute_result"
    }
   ],
   "source": [
    "OUT_TFS_HGI_FNAME"
   ]
  },
  {
   "cell_type": "code",
   "execution_count": 59,
   "id": "8da57243",
   "metadata": {},
   "outputs": [
    {
     "name": "stderr",
     "output_type": "stream",
     "text": [
      "/var/folders/xw/ggml5mhd4n7315516lvx2p6c0000gn/T/ipykernel_32746/1370331775.py:1: DtypeWarning: Columns (4) have mixed types. Specify dtype option on import or set low_memory=False.\n",
      "  df_motifs_Hgi = pd.read_csv(MOTIFS_HGNC_FNAME , sep='\\t')\n"
     ]
    }
   ],
   "source": [
    "df_motifs_Hgi = pd.read_csv(MOTIFS_HGNC_FNAME , sep='\\t')"
   ]
  },
  {
   "cell_type": "code",
   "execution_count": 60,
   "id": "1080d873",
   "metadata": {},
   "outputs": [
    {
     "data": {
      "text/plain": [
       "1839"
      ]
     },
     "execution_count": 60,
     "metadata": {},
     "output_type": "execute_result"
    }
   ],
   "source": [
    "HO_tfs = df_motifs_Hgi.gene_name.unique()\n",
    "len(HO_tfs)"
   ]
  },
  {
   "cell_type": "code",
   "execution_count": 61,
   "id": "fb6d6570",
   "metadata": {},
   "outputs": [],
   "source": [
    "with open('/Users/farhadzare/Desktop/Thesis for master/Untitled Folder/resources/hs_hgnc_tfs.txt', 'wt') as f:\n",
    "    f.write('\\n'.join(HO_tfs) + '\\n')  \n"
   ]
  },
  {
   "cell_type": "code",
   "execution_count": 62,
   "id": "ea75f699",
   "metadata": {},
   "outputs": [],
   "source": [
    "tf_names = load_tf_names(OUT_TFS_HGNC_FNAME)"
   ]
  },
  {
   "cell_type": "code",
   "execution_count": 63,
   "id": "4b284e83",
   "metadata": {},
   "outputs": [
    {
     "data": {
      "text/plain": [
       "1839"
      ]
     },
     "execution_count": 63,
     "metadata": {},
     "output_type": "execute_result"
    }
   ],
   "source": [
    "len(tf_names)"
   ]
  },
  {
   "cell_type": "code",
   "execution_count": 64,
   "id": "e79f65ba",
   "metadata": {},
   "outputs": [],
   "source": [
    "def intersection(lst1, lst2):\n",
    "    lst3 = [value for value in lst1 if value in lst2]\n",
    "    return lst3"
   ]
  },
  {
   "cell_type": "code",
   "execution_count": 27,
   "id": "d32ced5e",
   "metadata": {},
   "outputs": [
    {
     "name": "stdout",
     "output_type": "stream",
     "text": [
      "preparing dask client\n"
     ]
    },
    {
     "name": "stderr",
     "output_type": "stream",
     "text": [
      "Numba: Attempted to fork from a non-main thread, the TBB library may be in an invalid state in the child process.\n",
      "Numba: Attempted to fork from a non-main thread, the TBB library may be in an invalid state in the child process.\n",
      "Numba: Attempted to fork from a non-main thread, the TBB library may be in an invalid state in the child process.\n",
      "Numba: Attempted to fork from a non-main thread, the TBB library may be in an invalid state in the child process.\n",
      "Numba: Attempted to fork from a non-main thread, the TBB library may be in an invalid state in the child process.\n"
     ]
    },
    {
     "name": "stdout",
     "output_type": "stream",
     "text": [
      "parsing input\n",
      "creating dask graph\n",
      "4 partitions\n",
      "computing dask graph\n",
      "shutting down client and local cluster\n",
      "finished\n"
     ]
    }
   ],
   "source": [
    "adjancencies = grnboost2(expression_data=ex_matrix, tf_names=tf_names, verbose=True)"
   ]
  },
  {
   "cell_type": "code",
   "execution_count": 28,
   "id": "111ea150",
   "metadata": {},
   "outputs": [
    {
     "data": {
      "text/html": [
       "<div>\n",
       "<style scoped>\n",
       "    .dataframe tbody tr th:only-of-type {\n",
       "        vertical-align: middle;\n",
       "    }\n",
       "\n",
       "    .dataframe tbody tr th {\n",
       "        vertical-align: top;\n",
       "    }\n",
       "\n",
       "    .dataframe thead th {\n",
       "        text-align: right;\n",
       "    }\n",
       "</style>\n",
       "<table border=\"1\" class=\"dataframe\">\n",
       "  <thead>\n",
       "    <tr style=\"text-align: right;\">\n",
       "      <th></th>\n",
       "      <th>TF</th>\n",
       "      <th>target</th>\n",
       "      <th>importance</th>\n",
       "    </tr>\n",
       "  </thead>\n",
       "  <tbody>\n",
       "    <tr>\n",
       "      <th>17</th>\n",
       "      <td>CEBPB</td>\n",
       "      <td>MTHFD2</td>\n",
       "      <td>114.656687</td>\n",
       "    </tr>\n",
       "    <tr>\n",
       "      <th>77</th>\n",
       "      <td>EZH2</td>\n",
       "      <td>OIP5</td>\n",
       "      <td>109.352722</td>\n",
       "    </tr>\n",
       "    <tr>\n",
       "      <th>17</th>\n",
       "      <td>CEBPB</td>\n",
       "      <td>CEBPG</td>\n",
       "      <td>105.788578</td>\n",
       "    </tr>\n",
       "    <tr>\n",
       "      <th>17</th>\n",
       "      <td>CEBPB</td>\n",
       "      <td>EIF1</td>\n",
       "      <td>104.668294</td>\n",
       "    </tr>\n",
       "    <tr>\n",
       "      <th>17</th>\n",
       "      <td>CEBPG</td>\n",
       "      <td>CEBPB</td>\n",
       "      <td>104.295467</td>\n",
       "    </tr>\n",
       "  </tbody>\n",
       "</table>\n",
       "</div>"
      ],
      "text/plain": [
       "       TF  target  importance\n",
       "17  CEBPB  MTHFD2  114.656687\n",
       "77   EZH2    OIP5  109.352722\n",
       "17  CEBPB   CEBPG  105.788578\n",
       "17  CEBPB    EIF1  104.668294\n",
       "17  CEBPG   CEBPB  104.295467"
      ]
     },
     "execution_count": 28,
     "metadata": {},
     "output_type": "execute_result"
    }
   ],
   "source": [
    "adjancencies.head()\n"
   ]
  },
  {
   "cell_type": "code",
   "execution_count": 65,
   "id": "d3c3a6f0",
   "metadata": {},
   "outputs": [],
   "source": [
    "adjancencies.to_csv('ADJACENCIES.csv', index=False, sep='\\t')\n",
    "#adjacencies = pd.read_csv(ADJACENCIES_FNAME, sep='\\t')\n"
   ]
  },
  {
   "cell_type": "code",
   "execution_count": 68,
   "id": "71ae0b1b",
   "metadata": {},
   "outputs": [
    {
     "data": {
      "text/plain": [
       "['/Users/farhadzare/Desktop/Thesis for master/Untitled Folder/databases/humans/hg19-tss-centered-10kb-10species.mc9nr.genes_vs_motifs.rankings.feather',\n",
       " '/Users/farhadzare/Desktop/Thesis for master/Untitled Folder/databases/humans/hg19-tss-centered-10kb-7species.mc9nr.genes_vs_motifs.rankings.feather',\n",
       " '/Users/farhadzare/Desktop/Thesis for master/Untitled Folder/databases/humans/hg19-500bp-upstream-7species.mc9nr.genes_vs_motifs.rankings.feather',\n",
       " '/Users/farhadzare/Desktop/Thesis for master/Untitled Folder/databases/humans/hg19-500bp-upstream-10species.mc9nr.genes_vs_motifs.rankings.feather',\n",
       " '/Users/farhadzare/Desktop/Thesis for master/Untitled Folder/databases/humans/hg19-tss-centered-5kb-10species.mc9nr.genes_vs_motifs.rankings.feather',\n",
       " '/Users/farhadzare/Desktop/Thesis for master/Untitled Folder/databases/humans/hg19-tss-centered-5kb-7species.mc9nr.genes_vs_motifs.rankings.feather']"
      ]
     },
     "execution_count": 68,
     "metadata": {},
     "output_type": "execute_result"
    }
   ],
   "source": [
    "db_fnames = glob.glob(DATABASES_GLOB)\n",
    "db_fnames"
   ]
  },
  {
   "cell_type": "code",
   "execution_count": 33,
   "id": "7e0b417a",
   "metadata": {},
   "outputs": [],
   "source": [
    "def name(fname):\n",
    "    return os.path.splitext(os.path.basename(fname))[0]"
   ]
  },
  {
   "cell_type": "code",
   "execution_count": 48,
   "id": "719a5371",
   "metadata": {},
   "outputs": [],
   "source": [
    "for i in db_fnames:\n",
    "    convert_feather_v1_to_v2_vice_versa(i,i)"
   ]
  },
  {
   "cell_type": "code",
   "execution_count": 69,
   "id": "99d8b84c",
   "metadata": {},
   "outputs": [
    {
     "name": "stdout",
     "output_type": "stream",
     "text": [
      "hg19-tss-centered-10kb-10species.mc9nr.genes_vs_motifs.rankings\n",
      "hg19-tss-centered-10kb-7species.mc9nr.genes_vs_motifs.rankings\n",
      "hg19-500bp-upstream-7species.mc9nr.genes_vs_motifs.rankings\n",
      "hg19-500bp-upstream-10species.mc9nr.genes_vs_motifs.rankings\n",
      "hg19-tss-centered-5kb-10species.mc9nr.genes_vs_motifs.rankings\n",
      "hg19-tss-centered-5kb-7species.mc9nr.genes_vs_motifs.rankings\n"
     ]
    }
   ],
   "source": [
    "for i in db_fnames:\n",
    "    print(name(i))"
   ]
  },
  {
   "cell_type": "code",
   "execution_count": 70,
   "id": "023d4308",
   "metadata": {},
   "outputs": [],
   "source": [
    "dbs = [RankingDatabase(fname=i, name=name(i)) for i in db_fnames]"
   ]
  },
  {
   "cell_type": "code",
   "execution_count": 71,
   "id": "6104de1f",
   "metadata": {},
   "outputs": [
    {
     "data": {
      "text/plain": [
       "[FeatherRankingDatabase(name=\"hg19-tss-centered-10kb-10species.mc9nr.genes_vs_motifs.rankings\"),\n",
       " FeatherRankingDatabase(name=\"hg19-tss-centered-10kb-7species.mc9nr.genes_vs_motifs.rankings\"),\n",
       " FeatherRankingDatabase(name=\"hg19-500bp-upstream-7species.mc9nr.genes_vs_motifs.rankings\"),\n",
       " FeatherRankingDatabase(name=\"hg19-500bp-upstream-10species.mc9nr.genes_vs_motifs.rankings\"),\n",
       " FeatherRankingDatabase(name=\"hg19-tss-centered-5kb-10species.mc9nr.genes_vs_motifs.rankings\"),\n",
       " FeatherRankingDatabase(name=\"hg19-tss-centered-5kb-7species.mc9nr.genes_vs_motifs.rankings\")]"
      ]
     },
     "execution_count": 71,
     "metadata": {},
     "output_type": "execute_result"
    }
   ],
   "source": [
    "dbs"
   ]
  },
  {
   "cell_type": "code",
   "execution_count": 72,
   "id": "8bc1a760",
   "metadata": {},
   "outputs": [
    {
     "name": "stderr",
     "output_type": "stream",
     "text": [
      "\n",
      "2022-08-10 23:33:05,779 - pyscenic.utils - INFO - Calculating Pearson correlations.\n",
      "\n",
      "2022-08-10 23:33:05,802 - pyscenic.utils - WARNING - Note on correlation calculation: the default behaviour for calculating the correlations has changed after pySCENIC verion 0.9.16. Previously, the default was to calculate the correlation between a TF and target gene using only cells with non-zero expression values (mask_dropouts=True). The current default is now to use all cells to match the behavior of the R verision of SCENIC. The original settings can be retained by setting 'rho_mask_dropouts=True' in the modules_from_adjacencies function, or '--mask_dropouts' from the CLI.\n",
      "\tDropout masking is currently set to [False].\n",
      "\n",
      "2022-08-10 23:33:06,377 - pyscenic.utils - INFO - Creating modules.\n"
     ]
    }
   ],
   "source": [
    "modules = list(modules_from_adjacencies(adjancencies, ex_matrix))"
   ]
  },
  {
   "cell_type": "code",
   "execution_count": 73,
   "id": "8e17df4f",
   "metadata": {},
   "outputs": [],
   "source": [
    "List=[]\n",
    "for i in range(len(modules)):\n",
    "    List.append(len(modules[i]))\n",
    "    "
   ]
  },
  {
   "cell_type": "code",
   "execution_count": 74,
   "id": "ecbb10aa",
   "metadata": {},
   "outputs": [
    {
     "data": {
      "text/plain": [
       "<BarContainer object of 509 artists>"
      ]
     },
     "execution_count": 74,
     "metadata": {},
     "output_type": "execute_result"
    },
    {
     "data": {
      "image/png": "[encoded data removed]",
      "text/plain": [
       "<Figure size 720x504 with 1 Axes>"
      ]
     },
     "metadata": {
      "needs_background": "light"
     },
     "output_type": "display_data"
    }
   ],
   "source": [
    "import matplotlib.pyplot as plt\n",
    "%matplotlib inline\n",
    "fig = plt.figure(figsize =(10, 7))\n",
    "plt.bar(range(len(modules)), List)"
   ]
  },
  {
   "cell_type": "code",
   "execution_count": 81,
   "id": "fd9c2c0c",
   "metadata": {},
   "outputs": [
    {
     "name": "stdout",
     "output_type": "stream",
     "text": [
      "[                                        ] | 0% Completed |  1min 18.3s"
     ]
    },
    {
     "name": "stderr",
     "output_type": "stream",
     "text": [
      "\n",
      "2022-08-10 23:37:09,444 - pyscenic.transform - WARNING - Less than 80% of the genes in Regulon for CTBP2 could be mapped to hg19-tss-centered-5kb-7species.mc9nr.genes_vs_motifs.rankings. Skipping this module.\n",
      "\n",
      "2022-08-10 23:37:09,522 - pyscenic.transform - WARNING - Less than 80% of the genes in Regulon for CTBP2 could be mapped to hg19-tss-centered-10kb-10species.mc9nr.genes_vs_motifs.rankings. Skipping this module.\n"
     ]
    },
    {
     "name": "stdout",
     "output_type": "stream",
     "text": [
      "[                                        ] | 0% Completed |  1min 21.3s"
     ]
    },
    {
     "name": "stderr",
     "output_type": "stream",
     "text": [
      "\n",
      "2022-08-10 23:37:12,436 - pyscenic.transform - WARNING - Less than 80% of the genes in Regulon for CTBP2 could be mapped to hg19-tss-centered-10kb-7species.mc9nr.genes_vs_motifs.rankings. Skipping this module.\n"
     ]
    },
    {
     "name": "stdout",
     "output_type": "stream",
     "text": [
      "[                                        ] | 0% Completed |  1min 25.1s"
     ]
    },
    {
     "name": "stderr",
     "output_type": "stream",
     "text": [
      "\n",
      "2022-08-10 23:37:16,113 - pyscenic.transform - WARNING - Less than 80% of the genes in Regulon for CTBP2 could be mapped to hg19-tss-centered-5kb-10species.mc9nr.genes_vs_motifs.rankings. Skipping this module.\n"
     ]
    },
    {
     "name": "stdout",
     "output_type": "stream",
     "text": [
      "[                                        ] | 0% Completed |  1min 25.5s"
     ]
    },
    {
     "name": "stderr",
     "output_type": "stream",
     "text": [
      "\n",
      "2022-08-10 23:37:16,554 - pyscenic.transform - WARNING - Less than 80% of the genes in Regulon for CTBP2 could be mapped to hg19-500bp-upstream-7species.mc9nr.genes_vs_motifs.rankings. Skipping this module.\n"
     ]
    },
    {
     "name": "stdout",
     "output_type": "stream",
     "text": [
      "[                                        ] | 0% Completed |  1min 32.9s"
     ]
    },
    {
     "name": "stderr",
     "output_type": "stream",
     "text": [
      "\n",
      "2022-08-10 23:37:24,001 - pyscenic.transform - WARNING - Less than 80% of the genes in Regulon for CTBP2 could be mapped to hg19-500bp-upstream-10species.mc9nr.genes_vs_motifs.rankings. Skipping this module.\n"
     ]
    },
    {
     "name": "stdout",
     "output_type": "stream",
     "text": [
      "[########################################] | 100% Completed |  5min 45.7s\n",
      "Create regulons from a dataframe of enriched features.\n",
      "Additional columns saved: []\n"
     ]
    }
   ],
   "source": [
    "# Calculate a list of enriched motifs and the corresponding target genes for all modules.\n",
    "with ProgressBar():\n",
    "    df = prune2df(dbs, modules, MOTIF_ANNOTATIONS_FNAME)\n",
    "\n",
    "# Create regulons from this table of enriched motifs.\n",
    "regulons = df2regulons(df)"
   ]
  },
  {
   "cell_type": "code",
   "execution_count": 85,
   "id": "172eb492",
   "metadata": {},
   "outputs": [
    {
     "data": {
      "text/plain": [
       "42"
      ]
     },
     "execution_count": 85,
     "metadata": {},
     "output_type": "execute_result"
    }
   ],
   "source": [
    "len(regulons)"
   ]
  },
  {
   "cell_type": "code",
   "execution_count": 82,
   "id": "f0afbeda",
   "metadata": {},
   "outputs": [
    {
     "data": {
      "text/plain": [
       "'ATF2(+)'"
      ]
     },
     "execution_count": 82,
     "metadata": {},
     "output_type": "execute_result"
    }
   ],
   "source": [
    "regulons[1].name"
   ]
  },
  {
   "cell_type": "code",
   "execution_count": 83,
   "id": "d2dc88af",
   "metadata": {},
   "outputs": [],
   "source": [
    "List2=[]\n",
    "List1=[]\n",
    "for i in range(len(regulons)):\n",
    "    List2.append(regulons[i].name)\n",
    "    List1.append(len(regulons[i]))\n",
    "\n"
   ]
  },
  {
   "cell_type": "code",
   "execution_count": 84,
   "id": "e10957e7",
   "metadata": {},
   "outputs": [
    {
     "data": {
      "image/png": "[encoded data removed]",
      "text/plain": [
       "<Figure size 864x504 with 1 Axes>"
      ]
     },
     "metadata": {
      "needs_background": "light"
     },
     "output_type": "display_data"
    }
   ],
   "source": [
    "fig = plt.figure(figsize =(12, 7))\n",
    "plt.bar(List2, List1)\n",
    "plt.xticks(rotation='vertical')\n",
    "plt.show()"
   ]
  },
  {
   "cell_type": "code",
   "execution_count": 86,
   "id": "f65411a1",
   "metadata": {},
   "outputs": [],
   "source": [
    "# Save the enriched motifs and the discovered regulons to disk.\n",
    "df.to_csv(MOTIFS_FNAME)\n",
    "with open(REGULONS_FNAME, \"wb\") as f:\n",
    "    pickle.dump(regulons, f)"
   ]
  },
  {
   "cell_type": "code",
   "execution_count": 87,
   "id": "ea06f565",
   "metadata": {},
   "outputs": [],
   "source": [
    "df = load_motifs(MOTIFS_FNAME)\n",
    "with open(REGULONS_FNAME, \"rb\") as f:\n",
    "    regulons = pickle.load(f)"
   ]
  },
  {
   "cell_type": "code",
   "execution_count": 88,
   "id": "903c14f8",
   "metadata": {},
   "outputs": [
    {
     "name": "stderr",
     "output_type": "stream",
     "text": [
      "/Users/farhadzare/opt/anaconda3/lib/python3.9/site-packages/seaborn/matrix.py:654: UserWarning: Clustering large matrix with scipy. Installing `fastcluster` may give better performance.\n",
      "  warnings.warn(msg)\n"
     ]
    },
    {
     "data": {
      "text/plain": [
       "<seaborn.matrix.ClusterGrid at 0x7fb4f40c0730>"
      ]
     },
     "execution_count": 88,
     "metadata": {},
     "output_type": "execute_result"
    },
    {
     "data": {
      "image/png": "[encoded data removed]",
      "text/plain": [
       "<Figure size 720x720 with 4 Axes>"
      ]
     },
     "metadata": {
      "needs_background": "light"
     },
     "output_type": "display_data"
    }
   ],
   "source": [
    "auc_mtx = aucell(ex_matrix, regulons, num_workers=5)\n",
    "sns.clustermap(auc_mtx, figsize=(10,10))"
   ]
  },
  {
   "cell_type": "code",
   "execution_count": null,
   "id": "942ab5b2",
   "metadata": {},
   "outputs": [],
   "source": []
  }
 ],
 "metadata": {
  "kernelspec": {
   "display_name": "Python 3 (ipykernel)",
   "language": "python",
   "name": "python3"
  },
  "language_info": {
   "codemirror_mode": {
    "name": "ipython",
    "version": 3
   },
   "file_extension": ".py",
   "mimetype": "text/x-python",
   "name": "python",
   "nbconvert_exporter": "python",
   "pygments_lexer": "ipython3",
   "version": "3.9.12"
  }
 },
 "nbformat": 4,
 "nbformat_minor": 5
}
